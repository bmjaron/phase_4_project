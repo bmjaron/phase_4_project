{
  "nbformat": 4,
  "nbformat_minor": 0,
  "metadata": {
    "colab": {
      "provenance": [],
      "authorship_tag": "ABX9TyP7bcVqYSOo1rmFOBuKygUm",
      "include_colab_link": true
    },
    "kernelspec": {
      "name": "python3",
      "display_name": "Python 3"
    },
    "language_info": {
      "name": "python"
    }
  },
  "cells": [
    {
      "cell_type": "markdown",
      "metadata": {
        "id": "view-in-github",
        "colab_type": "text"
      },
      "source": [
        "<a href=\"https://colab.research.google.com/github/bmjaron/phase_4_project/blob/main/index.ipynb\" target=\"_parent\"><img src=\"https://colab.research.google.com/assets/colab-badge.svg\" alt=\"Open In Colab\"/></a>"
      ]
    },
    {
      "cell_type": "markdown",
      "source": [
        "# I. Business Understanding"
      ],
      "metadata": {
        "id": "VmoiyY31rkpC"
      }
    },
    {
      "cell_type": "markdown",
      "source": [
        "# II. Data Understanding"
      ],
      "metadata": {
        "id": "0N5Jzr9urn1A"
      }
    },
    {
      "cell_type": "markdown",
      "source": [
        "## A. Data Collection and Description"
      ],
      "metadata": {
        "id": "66G2qDJiw7SQ"
      }
    },
    {
      "cell_type": "markdown",
      "source": [
        "We'll begin by importing necessary libraries."
      ],
      "metadata": {
        "id": "-UojdUfqsL2C"
      }
    },
    {
      "cell_type": "code",
      "execution_count": 1,
      "metadata": {
        "id": "te0eV9WgL6Bs",
        "outputId": "cfddfe6c-be8b-4711-a881-8cbcc67ffbac",
        "colab": {
          "base_uri": "https://localhost:8080/"
        }
      },
      "outputs": [
        {
          "output_type": "stream",
          "name": "stderr",
          "text": [
            "[nltk_data] Downloading package punkt to /root/nltk_data...\n",
            "[nltk_data]   Unzipping tokenizers/punkt.zip.\n",
            "[nltk_data] Downloading package wordnet to /root/nltk_data...\n",
            "[nltk_data] Downloading package stopwords to /root/nltk_data...\n",
            "[nltk_data]   Unzipping corpora/stopwords.zip.\n"
          ]
        },
        {
          "output_type": "execute_result",
          "data": {
            "text/plain": [
              "True"
            ]
          },
          "metadata": {},
          "execution_count": 1
        }
      ],
      "source": [
        "import pandas as pd\n",
        "import matplotlib.pyplot as plt\n",
        "%matplotlib inline\n",
        "import seaborn as sns\n",
        "import re\n",
        "import nltk\n",
        "from nltk.collocations import *\n",
        "nltk.download('punkt')\n",
        "nltk.download('wordnet')\n",
        "nltk.download('stopwords')"
      ]
    },
    {
      "cell_type": "markdown",
      "source": [
        "We'll now load the data and preview."
      ],
      "metadata": {
        "id": "yNUAoxY8sPgn"
      }
    },
    {
      "cell_type": "code",
      "source": [
        "df = pd.read_csv('https://raw.githubusercontent.com/bmjaron/phase_4_project/main/data.csv')\n",
        "\n",
        "df.head()"
      ],
      "metadata": {
        "colab": {
          "base_uri": "https://localhost:8080/",
          "height": 206
        },
        "id": "94BMS77cr_LH",
        "outputId": "2fa1f82b-2089-4ad4-93a6-9c8ac1b9a865"
      },
      "execution_count": 2,
      "outputs": [
        {
          "output_type": "execute_result",
          "data": {
            "text/plain": [
              "                                          tweet_text  \\\n",
              "0  .@wesley83 I have a 3G iPhone. After 3 hrs twe...   \n",
              "1  @jessedee Know about @fludapp ? Awesome iPad/i...   \n",
              "2  @swonderlin Can not wait for #iPad 2 also. The...   \n",
              "3  @sxsw I hope this year's festival isn't as cra...   \n",
              "4  @sxtxstate great stuff on Fri #SXSW: Marissa M...   \n",
              "\n",
              "  emotion_in_tweet_is_directed_at  \\\n",
              "0                          iPhone   \n",
              "1              iPad or iPhone App   \n",
              "2                            iPad   \n",
              "3              iPad or iPhone App   \n",
              "4                          Google   \n",
              "\n",
              "  is_there_an_emotion_directed_at_a_brand_or_product  \n",
              "0                                   Negative emotion  \n",
              "1                                   Positive emotion  \n",
              "2                                   Positive emotion  \n",
              "3                                   Negative emotion  \n",
              "4                                   Positive emotion  "
            ],
            "text/html": [
              "\n",
              "  <div id=\"df-e6e418b8-6627-4757-89e4-37eb2dbdbdc9\" class=\"colab-df-container\">\n",
              "    <div>\n",
              "<style scoped>\n",
              "    .dataframe tbody tr th:only-of-type {\n",
              "        vertical-align: middle;\n",
              "    }\n",
              "\n",
              "    .dataframe tbody tr th {\n",
              "        vertical-align: top;\n",
              "    }\n",
              "\n",
              "    .dataframe thead th {\n",
              "        text-align: right;\n",
              "    }\n",
              "</style>\n",
              "<table border=\"1\" class=\"dataframe\">\n",
              "  <thead>\n",
              "    <tr style=\"text-align: right;\">\n",
              "      <th></th>\n",
              "      <th>tweet_text</th>\n",
              "      <th>emotion_in_tweet_is_directed_at</th>\n",
              "      <th>is_there_an_emotion_directed_at_a_brand_or_product</th>\n",
              "    </tr>\n",
              "  </thead>\n",
              "  <tbody>\n",
              "    <tr>\n",
              "      <th>0</th>\n",
              "      <td>.@wesley83 I have a 3G iPhone. After 3 hrs twe...</td>\n",
              "      <td>iPhone</td>\n",
              "      <td>Negative emotion</td>\n",
              "    </tr>\n",
              "    <tr>\n",
              "      <th>1</th>\n",
              "      <td>@jessedee Know about @fludapp ? Awesome iPad/i...</td>\n",
              "      <td>iPad or iPhone App</td>\n",
              "      <td>Positive emotion</td>\n",
              "    </tr>\n",
              "    <tr>\n",
              "      <th>2</th>\n",
              "      <td>@swonderlin Can not wait for #iPad 2 also. The...</td>\n",
              "      <td>iPad</td>\n",
              "      <td>Positive emotion</td>\n",
              "    </tr>\n",
              "    <tr>\n",
              "      <th>3</th>\n",
              "      <td>@sxsw I hope this year's festival isn't as cra...</td>\n",
              "      <td>iPad or iPhone App</td>\n",
              "      <td>Negative emotion</td>\n",
              "    </tr>\n",
              "    <tr>\n",
              "      <th>4</th>\n",
              "      <td>@sxtxstate great stuff on Fri #SXSW: Marissa M...</td>\n",
              "      <td>Google</td>\n",
              "      <td>Positive emotion</td>\n",
              "    </tr>\n",
              "  </tbody>\n",
              "</table>\n",
              "</div>\n",
              "    <div class=\"colab-df-buttons\">\n",
              "\n",
              "  <div class=\"colab-df-container\">\n",
              "    <button class=\"colab-df-convert\" onclick=\"convertToInteractive('df-e6e418b8-6627-4757-89e4-37eb2dbdbdc9')\"\n",
              "            title=\"Convert this dataframe to an interactive table.\"\n",
              "            style=\"display:none;\">\n",
              "\n",
              "  <svg xmlns=\"http://www.w3.org/2000/svg\" height=\"24px\" viewBox=\"0 -960 960 960\">\n",
              "    <path d=\"M120-120v-720h720v720H120Zm60-500h600v-160H180v160Zm220 220h160v-160H400v160Zm0 220h160v-160H400v160ZM180-400h160v-160H180v160Zm440 0h160v-160H620v160ZM180-180h160v-160H180v160Zm440 0h160v-160H620v160Z\"/>\n",
              "  </svg>\n",
              "    </button>\n",
              "\n",
              "  <style>\n",
              "    .colab-df-container {\n",
              "      display:flex;\n",
              "      gap: 12px;\n",
              "    }\n",
              "\n",
              "    .colab-df-convert {\n",
              "      background-color: #E8F0FE;\n",
              "      border: none;\n",
              "      border-radius: 50%;\n",
              "      cursor: pointer;\n",
              "      display: none;\n",
              "      fill: #1967D2;\n",
              "      height: 32px;\n",
              "      padding: 0 0 0 0;\n",
              "      width: 32px;\n",
              "    }\n",
              "\n",
              "    .colab-df-convert:hover {\n",
              "      background-color: #E2EBFA;\n",
              "      box-shadow: 0px 1px 2px rgba(60, 64, 67, 0.3), 0px 1px 3px 1px rgba(60, 64, 67, 0.15);\n",
              "      fill: #174EA6;\n",
              "    }\n",
              "\n",
              "    .colab-df-buttons div {\n",
              "      margin-bottom: 4px;\n",
              "    }\n",
              "\n",
              "    [theme=dark] .colab-df-convert {\n",
              "      background-color: #3B4455;\n",
              "      fill: #D2E3FC;\n",
              "    }\n",
              "\n",
              "    [theme=dark] .colab-df-convert:hover {\n",
              "      background-color: #434B5C;\n",
              "      box-shadow: 0px 1px 3px 1px rgba(0, 0, 0, 0.15);\n",
              "      filter: drop-shadow(0px 1px 2px rgba(0, 0, 0, 0.3));\n",
              "      fill: #FFFFFF;\n",
              "    }\n",
              "  </style>\n",
              "\n",
              "    <script>\n",
              "      const buttonEl =\n",
              "        document.querySelector('#df-e6e418b8-6627-4757-89e4-37eb2dbdbdc9 button.colab-df-convert');\n",
              "      buttonEl.style.display =\n",
              "        google.colab.kernel.accessAllowed ? 'block' : 'none';\n",
              "\n",
              "      async function convertToInteractive(key) {\n",
              "        const element = document.querySelector('#df-e6e418b8-6627-4757-89e4-37eb2dbdbdc9');\n",
              "        const dataTable =\n",
              "          await google.colab.kernel.invokeFunction('convertToInteractive',\n",
              "                                                    [key], {});\n",
              "        if (!dataTable) return;\n",
              "\n",
              "        const docLinkHtml = 'Like what you see? Visit the ' +\n",
              "          '<a target=\"_blank\" href=https://colab.research.google.com/notebooks/data_table.ipynb>data table notebook</a>'\n",
              "          + ' to learn more about interactive tables.';\n",
              "        element.innerHTML = '';\n",
              "        dataTable['output_type'] = 'display_data';\n",
              "        await google.colab.output.renderOutput(dataTable, element);\n",
              "        const docLink = document.createElement('div');\n",
              "        docLink.innerHTML = docLinkHtml;\n",
              "        element.appendChild(docLink);\n",
              "      }\n",
              "    </script>\n",
              "  </div>\n",
              "\n",
              "\n",
              "<div id=\"df-5fda35c8-352e-4e65-aa48-1b41d88fb48f\">\n",
              "  <button class=\"colab-df-quickchart\" onclick=\"quickchart('df-5fda35c8-352e-4e65-aa48-1b41d88fb48f')\"\n",
              "            title=\"Suggest charts\"\n",
              "            style=\"display:none;\">\n",
              "\n",
              "<svg xmlns=\"http://www.w3.org/2000/svg\" height=\"24px\"viewBox=\"0 0 24 24\"\n",
              "     width=\"24px\">\n",
              "    <g>\n",
              "        <path d=\"M19 3H5c-1.1 0-2 .9-2 2v14c0 1.1.9 2 2 2h14c1.1 0 2-.9 2-2V5c0-1.1-.9-2-2-2zM9 17H7v-7h2v7zm4 0h-2V7h2v10zm4 0h-2v-4h2v4z\"/>\n",
              "    </g>\n",
              "</svg>\n",
              "  </button>\n",
              "\n",
              "<style>\n",
              "  .colab-df-quickchart {\n",
              "      --bg-color: #E8F0FE;\n",
              "      --fill-color: #1967D2;\n",
              "      --hover-bg-color: #E2EBFA;\n",
              "      --hover-fill-color: #174EA6;\n",
              "      --disabled-fill-color: #AAA;\n",
              "      --disabled-bg-color: #DDD;\n",
              "  }\n",
              "\n",
              "  [theme=dark] .colab-df-quickchart {\n",
              "      --bg-color: #3B4455;\n",
              "      --fill-color: #D2E3FC;\n",
              "      --hover-bg-color: #434B5C;\n",
              "      --hover-fill-color: #FFFFFF;\n",
              "      --disabled-bg-color: #3B4455;\n",
              "      --disabled-fill-color: #666;\n",
              "  }\n",
              "\n",
              "  .colab-df-quickchart {\n",
              "    background-color: var(--bg-color);\n",
              "    border: none;\n",
              "    border-radius: 50%;\n",
              "    cursor: pointer;\n",
              "    display: none;\n",
              "    fill: var(--fill-color);\n",
              "    height: 32px;\n",
              "    padding: 0;\n",
              "    width: 32px;\n",
              "  }\n",
              "\n",
              "  .colab-df-quickchart:hover {\n",
              "    background-color: var(--hover-bg-color);\n",
              "    box-shadow: 0 1px 2px rgba(60, 64, 67, 0.3), 0 1px 3px 1px rgba(60, 64, 67, 0.15);\n",
              "    fill: var(--button-hover-fill-color);\n",
              "  }\n",
              "\n",
              "  .colab-df-quickchart-complete:disabled,\n",
              "  .colab-df-quickchart-complete:disabled:hover {\n",
              "    background-color: var(--disabled-bg-color);\n",
              "    fill: var(--disabled-fill-color);\n",
              "    box-shadow: none;\n",
              "  }\n",
              "\n",
              "  .colab-df-spinner {\n",
              "    border: 2px solid var(--fill-color);\n",
              "    border-color: transparent;\n",
              "    border-bottom-color: var(--fill-color);\n",
              "    animation:\n",
              "      spin 1s steps(1) infinite;\n",
              "  }\n",
              "\n",
              "  @keyframes spin {\n",
              "    0% {\n",
              "      border-color: transparent;\n",
              "      border-bottom-color: var(--fill-color);\n",
              "      border-left-color: var(--fill-color);\n",
              "    }\n",
              "    20% {\n",
              "      border-color: transparent;\n",
              "      border-left-color: var(--fill-color);\n",
              "      border-top-color: var(--fill-color);\n",
              "    }\n",
              "    30% {\n",
              "      border-color: transparent;\n",
              "      border-left-color: var(--fill-color);\n",
              "      border-top-color: var(--fill-color);\n",
              "      border-right-color: var(--fill-color);\n",
              "    }\n",
              "    40% {\n",
              "      border-color: transparent;\n",
              "      border-right-color: var(--fill-color);\n",
              "      border-top-color: var(--fill-color);\n",
              "    }\n",
              "    60% {\n",
              "      border-color: transparent;\n",
              "      border-right-color: var(--fill-color);\n",
              "    }\n",
              "    80% {\n",
              "      border-color: transparent;\n",
              "      border-right-color: var(--fill-color);\n",
              "      border-bottom-color: var(--fill-color);\n",
              "    }\n",
              "    90% {\n",
              "      border-color: transparent;\n",
              "      border-bottom-color: var(--fill-color);\n",
              "    }\n",
              "  }\n",
              "</style>\n",
              "\n",
              "  <script>\n",
              "    async function quickchart(key) {\n",
              "      const quickchartButtonEl =\n",
              "        document.querySelector('#' + key + ' button');\n",
              "      quickchartButtonEl.disabled = true;  // To prevent multiple clicks.\n",
              "      quickchartButtonEl.classList.add('colab-df-spinner');\n",
              "      try {\n",
              "        const charts = await google.colab.kernel.invokeFunction(\n",
              "            'suggestCharts', [key], {});\n",
              "      } catch (error) {\n",
              "        console.error('Error during call to suggestCharts:', error);\n",
              "      }\n",
              "      quickchartButtonEl.classList.remove('colab-df-spinner');\n",
              "      quickchartButtonEl.classList.add('colab-df-quickchart-complete');\n",
              "    }\n",
              "    (() => {\n",
              "      let quickchartButtonEl =\n",
              "        document.querySelector('#df-5fda35c8-352e-4e65-aa48-1b41d88fb48f button');\n",
              "      quickchartButtonEl.style.display =\n",
              "        google.colab.kernel.accessAllowed ? 'block' : 'none';\n",
              "    })();\n",
              "  </script>\n",
              "</div>\n",
              "    </div>\n",
              "  </div>\n"
            ]
          },
          "metadata": {},
          "execution_count": 2
        }
      ]
    },
    {
      "cell_type": "code",
      "source": [
        "df.shape"
      ],
      "metadata": {
        "colab": {
          "base_uri": "https://localhost:8080/"
        },
        "id": "XyzNGvHetNIS",
        "outputId": "cfd5d638-c36e-4d31-a73d-44d85017fb7f"
      },
      "execution_count": 3,
      "outputs": [
        {
          "output_type": "execute_result",
          "data": {
            "text/plain": [
              "(8721, 3)"
            ]
          },
          "metadata": {},
          "execution_count": 3
        }
      ]
    },
    {
      "cell_type": "code",
      "source": [
        "df.info()"
      ],
      "metadata": {
        "colab": {
          "base_uri": "https://localhost:8080/"
        },
        "id": "3N3iPDnRv_RD",
        "outputId": "42227329-c870-4a82-d930-7f548cc9bddd"
      },
      "execution_count": 4,
      "outputs": [
        {
          "output_type": "stream",
          "name": "stdout",
          "text": [
            "<class 'pandas.core.frame.DataFrame'>\n",
            "RangeIndex: 8721 entries, 0 to 8720\n",
            "Data columns (total 3 columns):\n",
            " #   Column                                              Non-Null Count  Dtype \n",
            "---  ------                                              --------------  ----- \n",
            " 0   tweet_text                                          8720 non-null   object\n",
            " 1   emotion_in_tweet_is_directed_at                     3169 non-null   object\n",
            " 2   is_there_an_emotion_directed_at_a_brand_or_product  8721 non-null   object\n",
            "dtypes: object(3)\n",
            "memory usage: 204.5+ KB\n"
          ]
        }
      ]
    },
    {
      "cell_type": "markdown",
      "source": [
        "In order to make the columns easier to work with, we're going to change the column names."
      ],
      "metadata": {
        "id": "SBi-GA1OrtTB"
      }
    },
    {
      "cell_type": "code",
      "source": [
        "df = df.rename(columns={'tweet_text': 'text', 'emotion_in_tweet_is_directed_at': 'directed_at', 'is_there_an_emotion_directed_at_a_brand_or_product': 'emotion'})"
      ],
      "metadata": {
        "id": "fYncrzk4ryNJ"
      },
      "execution_count": 5,
      "outputs": []
    },
    {
      "cell_type": "markdown",
      "source": [
        "We'll look at the different emotions shown in tweets."
      ],
      "metadata": {
        "id": "uGQLqTExsHW5"
      }
    },
    {
      "cell_type": "code",
      "source": [
        "df['emotion'].value_counts()"
      ],
      "metadata": {
        "colab": {
          "base_uri": "https://localhost:8080/"
        },
        "id": "jMstwSquxO1h",
        "outputId": "a4c22002-a0b9-4394-84e5-336e57b08659"
      },
      "execution_count": 6,
      "outputs": [
        {
          "output_type": "execute_result",
          "data": {
            "text/plain": [
              "No emotion toward brand or product    5156\n",
              "Positive emotion                      2869\n",
              "Negative emotion                       545\n",
              "I can't tell                           151\n",
              "Name: emotion, dtype: int64"
            ]
          },
          "metadata": {},
          "execution_count": 6
        }
      ]
    },
    {
      "cell_type": "markdown",
      "source": [
        "We can tell that we have data for 8,721 tweets that contain the text of the tweet, the brand or product that each given tweet is directed at, and whether or not the emotion expressed by the tweet is either positive or negative.\n",
        "\n",
        "We also see that we have some instances of null values. In particular, there is one tweet that is missing the text. But what is more noteworthy is that we only have a little over 1/3 of the product/brand target of the tweet.  "
      ],
      "metadata": {
        "id": "n5zjfSXetPmm"
      }
    },
    {
      "cell_type": "markdown",
      "source": [
        "## B. Exploratory Data Analysis"
      ],
      "metadata": {
        "id": "ZV4HBUdRtBSj"
      }
    },
    {
      "cell_type": "markdown",
      "source": [
        "### **Are tweets generally positive or negative?**"
      ],
      "metadata": {
        "id": "zegQ4ZcVxEiC"
      }
    },
    {
      "cell_type": "markdown",
      "source": [
        "We saw earlier that the emotions of our tweets can be broken down into 4 categories: 1) no emotion, 2) positive, 3) negative, 4) unable to determine emotion. Below, we'll visualize the break down."
      ],
      "metadata": {
        "id": "73YorZK0xiJA"
      }
    },
    {
      "cell_type": "code",
      "source": [
        "plt.bar(x=['No Emotion', 'Positive', 'Negative', \"Can't Tell\"],\n",
        "        height=[df['emotion'].value_counts()[n] for n in range(4)])\n"
      ],
      "metadata": {
        "colab": {
          "base_uri": "https://localhost:8080/",
          "height": 447
        },
        "id": "Ygi3j2scxJ8D",
        "outputId": "2f89a856-a379-4519-902d-ca7ccea09af9"
      },
      "execution_count": 7,
      "outputs": [
        {
          "output_type": "execute_result",
          "data": {
            "text/plain": [
              "<BarContainer object of 4 artists>"
            ]
          },
          "metadata": {},
          "execution_count": 7
        },
        {
          "output_type": "display_data",
          "data": {
            "text/plain": [
              "<Figure size 640x480 with 1 Axes>"
            ],
            "image/png": "[encoded data removed]"
          },
          "metadata": {}
        }
      ]
    },
    {
      "cell_type": "markdown",
      "source": [
        "### **What is the emotion of tweet based on products/brands?**\n",
        "\n",
        "\n"
      ],
      "metadata": {
        "id": "8o8o55lg1-PB"
      }
    },
    {
      "cell_type": "code",
      "source": [
        "df['directed_at'].value_counts()"
      ],
      "metadata": {
        "colab": {
          "base_uri": "https://localhost:8080/"
        },
        "id": "NWxA35Jg2OJ_",
        "outputId": "24def14f-d328-477d-b44f-f0dfd6fb41cd"
      },
      "execution_count": 8,
      "outputs": [
        {
          "output_type": "execute_result",
          "data": {
            "text/plain": [
              "iPad                               910\n",
              "Apple                              640\n",
              "iPad or iPhone App                 451\n",
              "Google                             412\n",
              "iPhone                             288\n",
              "Other Google product or service    282\n",
              "Android App                         78\n",
              "Android                             74\n",
              "Other Apple product or service      34\n",
              "Name: directed_at, dtype: int64"
            ]
          },
          "metadata": {},
          "execution_count": 8
        }
      ]
    },
    {
      "cell_type": "code",
      "source": [
        "map_dict = {'Apple': ['iPad', 'Apple', 'iPad or iPhone App', 'iPhone', 'Other Apple product or service'],\n",
        "            'Google': ['Google', 'Other Google product or service'],\n",
        "            'Android': ['Android App', 'Android']}\n",
        "\n",
        "df_2 = df.copy()\n",
        "df_2 = df_2.dropna(axis=0)\n",
        "\n",
        "df_2['directed_at'] = df_2['directed_at'].map(lambda x: 'Apple' if x in map_dict['Apple'] else (\n",
        "                                                        'Google' if x in map_dict['Google'] else\n",
        "                                                        'Android'))\n",
        "\n",
        "df_2['directed_at'].value_counts()"
      ],
      "metadata": {
        "colab": {
          "base_uri": "https://localhost:8080/"
        },
        "id": "tuoex5kV2tfY",
        "outputId": "91cf1a64-582b-4c89-9be6-248f8f7c6321"
      },
      "execution_count": 9,
      "outputs": [
        {
          "output_type": "execute_result",
          "data": {
            "text/plain": [
              "Apple      2323\n",
              "Google      694\n",
              "Android     152\n",
              "Name: directed_at, dtype: int64"
            ]
          },
          "metadata": {},
          "execution_count": 9
        }
      ]
    },
    {
      "cell_type": "code",
      "source": [
        "#apple = df_2[df_2['directed_at'] == 'Apple']\n",
        "#google = df_2[df_2['directed_at'] == 'Google']\n",
        "#android = df_2[df_2['directed_at'] == 'Android']\n",
        "\n",
        "#fig, axes = plt.subplots(1, 3, figsize=(16, 4))\n",
        "\n",
        "#for n, b in enumerate([apple, google, android]):\n",
        " # axes[n].bar(x=['No Emotion', 'Positive', 'Negative', \"Can't Tell\"],\n",
        "  #            height=[b['emotion'].value_counts()[x] for x in range(4)])"
      ],
      "metadata": {
        "id": "025B5GDn9KjJ"
      },
      "execution_count": 10,
      "outputs": []
    },
    {
      "cell_type": "markdown",
      "source": [
        "# III. Data Preparation"
      ],
      "metadata": {
        "id": "INrSBlFLsBnF"
      }
    },
    {
      "cell_type": "markdown",
      "source": [
        "Clean and tokenize."
      ],
      "metadata": {
        "id": "3yAOU5LrtVhW"
      }
    },
    {
      "cell_type": "code",
      "source": [
        "#Preview text of tweets\n",
        "\n",
        "for tweet in df['text'][:10]:\n",
        "  print(tweet)"
      ],
      "metadata": {
        "id": "wETRp6GssD9K",
        "colab": {
          "base_uri": "https://localhost:8080/"
        },
        "outputId": "cd91de42-1e6a-46e2-9f1f-3e26b3959b31"
      },
      "execution_count": 11,
      "outputs": [
        {
          "output_type": "stream",
          "name": "stdout",
          "text": [
            ".@wesley83 I have a 3G iPhone. After 3 hrs tweeting at #RISE_Austin, it was dead!  I need to upgrade. Plugin stations at #SXSW.\n",
            "@jessedee Know about @fludapp ? Awesome iPad/iPhone app that you'll likely appreciate for its design. Also, they're giving free Ts at #SXSW\n",
            "@swonderlin Can not wait for #iPad 2 also. They should sale them down at #SXSW.\n",
            "@sxsw I hope this year's festival isn't as crashy as this year's iPhone app. #sxsw\n",
            "@sxtxstate great stuff on Fri #SXSW: Marissa Mayer (Google), Tim O'Reilly (tech books/conferences) &amp; Matt Mullenweg (Wordpress)\n",
            "@teachntech00 New iPad Apps For #SpeechTherapy And Communication Are Showcased At The #SXSW Conference http://ht.ly/49n4M #iear #edchat #asd\n",
            "nan\n",
            "#SXSW is just starting, #CTIA is around the corner and #googleio is only a hop skip and a jump from there, good time to be an #android fan\n",
            "Beautifully smart and simple idea RT @madebymany @thenextweb wrote about our #hollergram iPad app for #sxsw! http://bit.ly/ieaVOB\n",
            "Counting down the days to #sxsw plus strong Canadian dollar means stock up on Apple gear\n"
          ]
        }
      ]
    },
    {
      "cell_type": "code",
      "source": [
        "temp_string = df['text'][8]\n",
        "temp_string = temp_string.lower()\n",
        "temp_string = re.sub('https?://\\S+', '', temp_string)\n",
        "temp_string = re.sub('[^\\w\\s\\d]', '', temp_string)\n",
        "\n",
        "temp_string"
      ],
      "metadata": {
        "id": "sD41EEq5tctv",
        "outputId": "e420e299-8cde-4203-8850-627231f36369",
        "colab": {
          "base_uri": "https://localhost:8080/",
          "height": 36
        }
      },
      "execution_count": 12,
      "outputs": [
        {
          "output_type": "execute_result",
          "data": {
            "text/plain": [
              "'beautifully smart and simple idea rt madebymany thenextweb wrote about our hollergram ipad app for sxsw '"
            ],
            "application/vnd.google.colaboratory.intrinsic+json": {
              "type": "string"
            }
          },
          "metadata": {},
          "execution_count": 12
        }
      ]
    },
    {
      "cell_type": "code",
      "source": [
        "import string\n",
        "\n",
        "def clean_tweets(text):\n",
        "    '''Make text lowercase, remove text in square brackets,remove links,remove punctuation\n",
        "    and remove words containing numbers.'''\n",
        "    text = str(text).lower()\n",
        "    text = re.sub('\\[.*?\\]', '', text)\n",
        "    text = re.sub('https?://\\S+|www\\.\\S+', '', text)\n",
        "    text = re.sub('<.*?>+', '', text)\n",
        "    text = re.sub('[%s]' % re.escape(string.punctuation), '', text)\n",
        "    text = re.sub('\\n', '', text)\n",
        "    text = re.sub('\\w*\\d\\w*', '', text)\n",
        "    return text\n",
        "\n",
        "df_practice = df.copy()\n",
        "df_practice.dropna(subset=['text'], inplace=True)\n",
        "df_practice['text'] = df_practice['text'].map(lambda x: clean_tweets(x))"
      ],
      "metadata": {
        "id": "53gM5XtStltL"
      },
      "execution_count": 13,
      "outputs": []
    },
    {
      "cell_type": "markdown",
      "source": [
        "Let's preview some cleaned tweets."
      ],
      "metadata": {
        "id": "8KMwhEYS7fnw"
      }
    },
    {
      "cell_type": "code",
      "source": [
        "for tweet in df_practice['text'][10:20]:\n",
        "  print(tweet)"
      ],
      "metadata": {
        "colab": {
          "base_uri": "https://localhost:8080/"
        },
        "id": "SgpZTk0R3m1a",
        "outputId": "bc543bfb-02b4-4b58-ef5b-6584a85516b5"
      },
      "execution_count": 14,
      "outputs": [
        {
          "output_type": "stream",
          "name": "stdout",
          "text": [
            "find amp start impromptu parties at sxsw with hurricaneparty  i cant wait til the android app comes out\n",
            "foursquare ups the game just in time for sxsw   still prefer gowalla by far best looking android app to date\n",
            "gotta love this sxsw google calendar featuring top parties show cases to check out  rt hamsandwich via ischafer gt\n",
            "great sxsw ipad app from madebymany \n",
            "haha awesomely rad ipad app by madebymany  hollergram sxsw\n",
            "holler gram for ipad on the itunes app store    via marcisken sxsw\n",
            "i just noticed dst is coming this weekend how many iphone users will be an hour late at sxsw come sunday morning sxsw iphone\n",
            "just added my sxsw flights to planely matching people on planesairports also downloaded the klm iphone app nicely done\n",
            "must have sxsw app rt malbonster lovely review from forbes for our sxsw ipad app holler gram  \n",
            "need to buy an  while im in austin at sxsw not sure if ill need to q up at an austin apple store\n"
          ]
        }
      ]
    },
    {
      "cell_type": "markdown",
      "source": [
        "Tokenization."
      ],
      "metadata": {
        "id": "5cFyqFhu7kqx"
      }
    },
    {
      "cell_type": "code",
      "source": [
        "df_practice['text'] = df_practice['text'].map(lambda x: nltk.word_tokenize(x))"
      ],
      "metadata": {
        "id": "GIM1ntee6EUw"
      },
      "execution_count": 15,
      "outputs": []
    },
    {
      "cell_type": "code",
      "source": [
        "df_practice.head()"
      ],
      "metadata": {
        "id": "xPwFZbR18D3u",
        "outputId": "e03a6702-56f7-4be3-9ccd-0aa21eaafc47",
        "colab": {
          "base_uri": "https://localhost:8080/",
          "height": 206
        }
      },
      "execution_count": 16,
      "outputs": [
        {
          "output_type": "execute_result",
          "data": {
            "text/plain": [
              "                                                text         directed_at  \\\n",
              "0  [i, have, a, iphone, after, hrs, tweeting, at,...              iPhone   \n",
              "1  [jessedee, know, about, fludapp, awesome, ipad...  iPad or iPhone App   \n",
              "2  [swonderlin, can, not, wait, for, ipad, also, ...                iPad   \n",
              "3  [sxsw, i, hope, this, years, festival, isnt, a...  iPad or iPhone App   \n",
              "4  [sxtxstate, great, stuff, on, fri, sxsw, maris...              Google   \n",
              "\n",
              "            emotion  \n",
              "0  Negative emotion  \n",
              "1  Positive emotion  \n",
              "2  Positive emotion  \n",
              "3  Negative emotion  \n",
              "4  Positive emotion  "
            ],
            "text/html": [
              "\n",
              "  <div id=\"df-d344d5e1-48b2-4a0f-91a5-9f1a97623020\" class=\"colab-df-container\">\n",
              "    <div>\n",
              "<style scoped>\n",
              "    .dataframe tbody tr th:only-of-type {\n",
              "        vertical-align: middle;\n",
              "    }\n",
              "\n",
              "    .dataframe tbody tr th {\n",
              "        vertical-align: top;\n",
              "    }\n",
              "\n",
              "    .dataframe thead th {\n",
              "        text-align: right;\n",
              "    }\n",
              "</style>\n",
              "<table border=\"1\" class=\"dataframe\">\n",
              "  <thead>\n",
              "    <tr style=\"text-align: right;\">\n",
              "      <th></th>\n",
              "      <th>text</th>\n",
              "      <th>directed_at</th>\n",
              "      <th>emotion</th>\n",
              "    </tr>\n",
              "  </thead>\n",
              "  <tbody>\n",
              "    <tr>\n",
              "      <th>0</th>\n",
              "      <td>[i, have, a, iphone, after, hrs, tweeting, at,...</td>\n",
              "      <td>iPhone</td>\n",
              "      <td>Negative emotion</td>\n",
              "    </tr>\n",
              "    <tr>\n",
              "      <th>1</th>\n",
              "      <td>[jessedee, know, about, fludapp, awesome, ipad...</td>\n",
              "      <td>iPad or iPhone App</td>\n",
              "      <td>Positive emotion</td>\n",
              "    </tr>\n",
              "    <tr>\n",
              "      <th>2</th>\n",
              "      <td>[swonderlin, can, not, wait, for, ipad, also, ...</td>\n",
              "      <td>iPad</td>\n",
              "      <td>Positive emotion</td>\n",
              "    </tr>\n",
              "    <tr>\n",
              "      <th>3</th>\n",
              "      <td>[sxsw, i, hope, this, years, festival, isnt, a...</td>\n",
              "      <td>iPad or iPhone App</td>\n",
              "      <td>Negative emotion</td>\n",
              "    </tr>\n",
              "    <tr>\n",
              "      <th>4</th>\n",
              "      <td>[sxtxstate, great, stuff, on, fri, sxsw, maris...</td>\n",
              "      <td>Google</td>\n",
              "      <td>Positive emotion</td>\n",
              "    </tr>\n",
              "  </tbody>\n",
              "</table>\n",
              "</div>\n",
              "    <div class=\"colab-df-buttons\">\n",
              "\n",
              "  <div class=\"colab-df-container\">\n",
              "    <button class=\"colab-df-convert\" onclick=\"convertToInteractive('df-d344d5e1-48b2-4a0f-91a5-9f1a97623020')\"\n",
              "            title=\"Convert this dataframe to an interactive table.\"\n",
              "            style=\"display:none;\">\n",
              "\n",
              "  <svg xmlns=\"http://www.w3.org/2000/svg\" height=\"24px\" viewBox=\"0 -960 960 960\">\n",
              "    <path d=\"M120-120v-720h720v720H120Zm60-500h600v-160H180v160Zm220 220h160v-160H400v160Zm0 220h160v-160H400v160ZM180-400h160v-160H180v160Zm440 0h160v-160H620v160ZM180-180h160v-160H180v160Zm440 0h160v-160H620v160Z\"/>\n",
              "  </svg>\n",
              "    </button>\n",
              "\n",
              "  <style>\n",
              "    .colab-df-container {\n",
              "      display:flex;\n",
              "      gap: 12px;\n",
              "    }\n",
              "\n",
              "    .colab-df-convert {\n",
              "      background-color: #E8F0FE;\n",
              "      border: none;\n",
              "      border-radius: 50%;\n",
              "      cursor: pointer;\n",
              "      display: none;\n",
              "      fill: #1967D2;\n",
              "      height: 32px;\n",
              "      padding: 0 0 0 0;\n",
              "      width: 32px;\n",
              "    }\n",
              "\n",
              "    .colab-df-convert:hover {\n",
              "      background-color: #E2EBFA;\n",
              "      box-shadow: 0px 1px 2px rgba(60, 64, 67, 0.3), 0px 1px 3px 1px rgba(60, 64, 67, 0.15);\n",
              "      fill: #174EA6;\n",
              "    }\n",
              "\n",
              "    .colab-df-buttons div {\n",
              "      margin-bottom: 4px;\n",
              "    }\n",
              "\n",
              "    [theme=dark] .colab-df-convert {\n",
              "      background-color: #3B4455;\n",
              "      fill: #D2E3FC;\n",
              "    }\n",
              "\n",
              "    [theme=dark] .colab-df-convert:hover {\n",
              "      background-color: #434B5C;\n",
              "      box-shadow: 0px 1px 3px 1px rgba(0, 0, 0, 0.15);\n",
              "      filter: drop-shadow(0px 1px 2px rgba(0, 0, 0, 0.3));\n",
              "      fill: #FFFFFF;\n",
              "    }\n",
              "  </style>\n",
              "\n",
              "    <script>\n",
              "      const buttonEl =\n",
              "        document.querySelector('#df-d344d5e1-48b2-4a0f-91a5-9f1a97623020 button.colab-df-convert');\n",
              "      buttonEl.style.display =\n",
              "        google.colab.kernel.accessAllowed ? 'block' : 'none';\n",
              "\n",
              "      async function convertToInteractive(key) {\n",
              "        const element = document.querySelector('#df-d344d5e1-48b2-4a0f-91a5-9f1a97623020');\n",
              "        const dataTable =\n",
              "          await google.colab.kernel.invokeFunction('convertToInteractive',\n",
              "                                                    [key], {});\n",
              "        if (!dataTable) return;\n",
              "\n",
              "        const docLinkHtml = 'Like what you see? Visit the ' +\n",
              "          '<a target=\"_blank\" href=https://colab.research.google.com/notebooks/data_table.ipynb>data table notebook</a>'\n",
              "          + ' to learn more about interactive tables.';\n",
              "        element.innerHTML = '';\n",
              "        dataTable['output_type'] = 'display_data';\n",
              "        await google.colab.output.renderOutput(dataTable, element);\n",
              "        const docLink = document.createElement('div');\n",
              "        docLink.innerHTML = docLinkHtml;\n",
              "        element.appendChild(docLink);\n",
              "      }\n",
              "    </script>\n",
              "  </div>\n",
              "\n",
              "\n",
              "<div id=\"df-fd138b09-598d-441b-8287-61729ad3b602\">\n",
              "  <button class=\"colab-df-quickchart\" onclick=\"quickchart('df-fd138b09-598d-441b-8287-61729ad3b602')\"\n",
              "            title=\"Suggest charts\"\n",
              "            style=\"display:none;\">\n",
              "\n",
              "<svg xmlns=\"http://www.w3.org/2000/svg\" height=\"24px\"viewBox=\"0 0 24 24\"\n",
              "     width=\"24px\">\n",
              "    <g>\n",
              "        <path d=\"M19 3H5c-1.1 0-2 .9-2 2v14c0 1.1.9 2 2 2h14c1.1 0 2-.9 2-2V5c0-1.1-.9-2-2-2zM9 17H7v-7h2v7zm4 0h-2V7h2v10zm4 0h-2v-4h2v4z\"/>\n",
              "    </g>\n",
              "</svg>\n",
              "  </button>\n",
              "\n",
              "<style>\n",
              "  .colab-df-quickchart {\n",
              "      --bg-color: #E8F0FE;\n",
              "      --fill-color: #1967D2;\n",
              "      --hover-bg-color: #E2EBFA;\n",
              "      --hover-fill-color: #174EA6;\n",
              "      --disabled-fill-color: #AAA;\n",
              "      --disabled-bg-color: #DDD;\n",
              "  }\n",
              "\n",
              "  [theme=dark] .colab-df-quickchart {\n",
              "      --bg-color: #3B4455;\n",
              "      --fill-color: #D2E3FC;\n",
              "      --hover-bg-color: #434B5C;\n",
              "      --hover-fill-color: #FFFFFF;\n",
              "      --disabled-bg-color: #3B4455;\n",
              "      --disabled-fill-color: #666;\n",
              "  }\n",
              "\n",
              "  .colab-df-quickchart {\n",
              "    background-color: var(--bg-color);\n",
              "    border: none;\n",
              "    border-radius: 50%;\n",
              "    cursor: pointer;\n",
              "    display: none;\n",
              "    fill: var(--fill-color);\n",
              "    height: 32px;\n",
              "    padding: 0;\n",
              "    width: 32px;\n",
              "  }\n",
              "\n",
              "  .colab-df-quickchart:hover {\n",
              "    background-color: var(--hover-bg-color);\n",
              "    box-shadow: 0 1px 2px rgba(60, 64, 67, 0.3), 0 1px 3px 1px rgba(60, 64, 67, 0.15);\n",
              "    fill: var(--button-hover-fill-color);\n",
              "  }\n",
              "\n",
              "  .colab-df-quickchart-complete:disabled,\n",
              "  .colab-df-quickchart-complete:disabled:hover {\n",
              "    background-color: var(--disabled-bg-color);\n",
              "    fill: var(--disabled-fill-color);\n",
              "    box-shadow: none;\n",
              "  }\n",
              "\n",
              "  .colab-df-spinner {\n",
              "    border: 2px solid var(--fill-color);\n",
              "    border-color: transparent;\n",
              "    border-bottom-color: var(--fill-color);\n",
              "    animation:\n",
              "      spin 1s steps(1) infinite;\n",
              "  }\n",
              "\n",
              "  @keyframes spin {\n",
              "    0% {\n",
              "      border-color: transparent;\n",
              "      border-bottom-color: var(--fill-color);\n",
              "      border-left-color: var(--fill-color);\n",
              "    }\n",
              "    20% {\n",
              "      border-color: transparent;\n",
              "      border-left-color: var(--fill-color);\n",
              "      border-top-color: var(--fill-color);\n",
              "    }\n",
              "    30% {\n",
              "      border-color: transparent;\n",
              "      border-left-color: var(--fill-color);\n",
              "      border-top-color: var(--fill-color);\n",
              "      border-right-color: var(--fill-color);\n",
              "    }\n",
              "    40% {\n",
              "      border-color: transparent;\n",
              "      border-right-color: var(--fill-color);\n",
              "      border-top-color: var(--fill-color);\n",
              "    }\n",
              "    60% {\n",
              "      border-color: transparent;\n",
              "      border-right-color: var(--fill-color);\n",
              "    }\n",
              "    80% {\n",
              "      border-color: transparent;\n",
              "      border-right-color: var(--fill-color);\n",
              "      border-bottom-color: var(--fill-color);\n",
              "    }\n",
              "    90% {\n",
              "      border-color: transparent;\n",
              "      border-bottom-color: var(--fill-color);\n",
              "    }\n",
              "  }\n",
              "</style>\n",
              "\n",
              "  <script>\n",
              "    async function quickchart(key) {\n",
              "      const quickchartButtonEl =\n",
              "        document.querySelector('#' + key + ' button');\n",
              "      quickchartButtonEl.disabled = true;  // To prevent multiple clicks.\n",
              "      quickchartButtonEl.classList.add('colab-df-spinner');\n",
              "      try {\n",
              "        const charts = await google.colab.kernel.invokeFunction(\n",
              "            'suggestCharts', [key], {});\n",
              "      } catch (error) {\n",
              "        console.error('Error during call to suggestCharts:', error);\n",
              "      }\n",
              "      quickchartButtonEl.classList.remove('colab-df-spinner');\n",
              "      quickchartButtonEl.classList.add('colab-df-quickchart-complete');\n",
              "    }\n",
              "    (() => {\n",
              "      let quickchartButtonEl =\n",
              "        document.querySelector('#df-fd138b09-598d-441b-8287-61729ad3b602 button');\n",
              "      quickchartButtonEl.style.display =\n",
              "        google.colab.kernel.accessAllowed ? 'block' : 'none';\n",
              "    })();\n",
              "  </script>\n",
              "</div>\n",
              "    </div>\n",
              "  </div>\n"
            ]
          },
          "metadata": {},
          "execution_count": 16
        }
      ]
    },
    {
      "cell_type": "markdown",
      "source": [
        "Removing stopwords."
      ],
      "metadata": {
        "id": "1-EAot_d8t9j"
      }
    },
    {
      "cell_type": "code",
      "source": [
        "from nltk.corpus import stopwords\n",
        "stop_words = stopwords.words('english')\n",
        "\n",
        "df_practice['text'] = df_practice['text'].map(lambda x: [word for word in x if word not in stop_words])\n",
        "\n",
        "df_practice.head()\n"
      ],
      "metadata": {
        "id": "w1GmWOyF8vIU",
        "outputId": "fdee74fe-583a-45ca-85a6-3152dec70828",
        "colab": {
          "base_uri": "https://localhost:8080/",
          "height": 206
        }
      },
      "execution_count": 17,
      "outputs": [
        {
          "output_type": "execute_result",
          "data": {
            "text/plain": [
              "                                                text         directed_at  \\\n",
              "0  [iphone, hrs, tweeting, riseaustin, dead, need...              iPhone   \n",
              "1  [jessedee, know, fludapp, awesome, ipadiphone,...  iPad or iPhone App   \n",
              "2         [swonderlin, wait, ipad, also, sale, sxsw]                iPad   \n",
              "3  [sxsw, hope, years, festival, isnt, crashy, ye...  iPad or iPhone App   \n",
              "4  [sxtxstate, great, stuff, fri, sxsw, marissa, ...              Google   \n",
              "\n",
              "            emotion  \n",
              "0  Negative emotion  \n",
              "1  Positive emotion  \n",
              "2  Positive emotion  \n",
              "3  Negative emotion  \n",
              "4  Positive emotion  "
            ],
            "text/html": [
              "\n",
              "  <div id=\"df-fd4d23a7-b85a-4ce7-8f7c-164445e812fa\" class=\"colab-df-container\">\n",
              "    <div>\n",
              "<style scoped>\n",
              "    .dataframe tbody tr th:only-of-type {\n",
              "        vertical-align: middle;\n",
              "    }\n",
              "\n",
              "    .dataframe tbody tr th {\n",
              "        vertical-align: top;\n",
              "    }\n",
              "\n",
              "    .dataframe thead th {\n",
              "        text-align: right;\n",
              "    }\n",
              "</style>\n",
              "<table border=\"1\" class=\"dataframe\">\n",
              "  <thead>\n",
              "    <tr style=\"text-align: right;\">\n",
              "      <th></th>\n",
              "      <th>text</th>\n",
              "      <th>directed_at</th>\n",
              "      <th>emotion</th>\n",
              "    </tr>\n",
              "  </thead>\n",
              "  <tbody>\n",
              "    <tr>\n",
              "      <th>0</th>\n",
              "      <td>[iphone, hrs, tweeting, riseaustin, dead, need...</td>\n",
              "      <td>iPhone</td>\n",
              "      <td>Negative emotion</td>\n",
              "    </tr>\n",
              "    <tr>\n",
              "      <th>1</th>\n",
              "      <td>[jessedee, know, fludapp, awesome, ipadiphone,...</td>\n",
              "      <td>iPad or iPhone App</td>\n",
              "      <td>Positive emotion</td>\n",
              "    </tr>\n",
              "    <tr>\n",
              "      <th>2</th>\n",
              "      <td>[swonderlin, wait, ipad, also, sale, sxsw]</td>\n",
              "      <td>iPad</td>\n",
              "      <td>Positive emotion</td>\n",
              "    </tr>\n",
              "    <tr>\n",
              "      <th>3</th>\n",
              "      <td>[sxsw, hope, years, festival, isnt, crashy, ye...</td>\n",
              "      <td>iPad or iPhone App</td>\n",
              "      <td>Negative emotion</td>\n",
              "    </tr>\n",
              "    <tr>\n",
              "      <th>4</th>\n",
              "      <td>[sxtxstate, great, stuff, fri, sxsw, marissa, ...</td>\n",
              "      <td>Google</td>\n",
              "      <td>Positive emotion</td>\n",
              "    </tr>\n",
              "  </tbody>\n",
              "</table>\n",
              "</div>\n",
              "    <div class=\"colab-df-buttons\">\n",
              "\n",
              "  <div class=\"colab-df-container\">\n",
              "    <button class=\"colab-df-convert\" onclick=\"convertToInteractive('df-fd4d23a7-b85a-4ce7-8f7c-164445e812fa')\"\n",
              "            title=\"Convert this dataframe to an interactive table.\"\n",
              "            style=\"display:none;\">\n",
              "\n",
              "  <svg xmlns=\"http://www.w3.org/2000/svg\" height=\"24px\" viewBox=\"0 -960 960 960\">\n",
              "    <path d=\"M120-120v-720h720v720H120Zm60-500h600v-160H180v160Zm220 220h160v-160H400v160Zm0 220h160v-160H400v160ZM180-400h160v-160H180v160Zm440 0h160v-160H620v160ZM180-180h160v-160H180v160Zm440 0h160v-160H620v160Z\"/>\n",
              "  </svg>\n",
              "    </button>\n",
              "\n",
              "  <style>\n",
              "    .colab-df-container {\n",
              "      display:flex;\n",
              "      gap: 12px;\n",
              "    }\n",
              "\n",
              "    .colab-df-convert {\n",
              "      background-color: #E8F0FE;\n",
              "      border: none;\n",
              "      border-radius: 50%;\n",
              "      cursor: pointer;\n",
              "      display: none;\n",
              "      fill: #1967D2;\n",
              "      height: 32px;\n",
              "      padding: 0 0 0 0;\n",
              "      width: 32px;\n",
              "    }\n",
              "\n",
              "    .colab-df-convert:hover {\n",
              "      background-color: #E2EBFA;\n",
              "      box-shadow: 0px 1px 2px rgba(60, 64, 67, 0.3), 0px 1px 3px 1px rgba(60, 64, 67, 0.15);\n",
              "      fill: #174EA6;\n",
              "    }\n",
              "\n",
              "    .colab-df-buttons div {\n",
              "      margin-bottom: 4px;\n",
              "    }\n",
              "\n",
              "    [theme=dark] .colab-df-convert {\n",
              "      background-color: #3B4455;\n",
              "      fill: #D2E3FC;\n",
              "    }\n",
              "\n",
              "    [theme=dark] .colab-df-convert:hover {\n",
              "      background-color: #434B5C;\n",
              "      box-shadow: 0px 1px 3px 1px rgba(0, 0, 0, 0.15);\n",
              "      filter: drop-shadow(0px 1px 2px rgba(0, 0, 0, 0.3));\n",
              "      fill: #FFFFFF;\n",
              "    }\n",
              "  </style>\n",
              "\n",
              "    <script>\n",
              "      const buttonEl =\n",
              "        document.querySelector('#df-fd4d23a7-b85a-4ce7-8f7c-164445e812fa button.colab-df-convert');\n",
              "      buttonEl.style.display =\n",
              "        google.colab.kernel.accessAllowed ? 'block' : 'none';\n",
              "\n",
              "      async function convertToInteractive(key) {\n",
              "        const element = document.querySelector('#df-fd4d23a7-b85a-4ce7-8f7c-164445e812fa');\n",
              "        const dataTable =\n",
              "          await google.colab.kernel.invokeFunction('convertToInteractive',\n",
              "                                                    [key], {});\n",
              "        if (!dataTable) return;\n",
              "\n",
              "        const docLinkHtml = 'Like what you see? Visit the ' +\n",
              "          '<a target=\"_blank\" href=https://colab.research.google.com/notebooks/data_table.ipynb>data table notebook</a>'\n",
              "          + ' to learn more about interactive tables.';\n",
              "        element.innerHTML = '';\n",
              "        dataTable['output_type'] = 'display_data';\n",
              "        await google.colab.output.renderOutput(dataTable, element);\n",
              "        const docLink = document.createElement('div');\n",
              "        docLink.innerHTML = docLinkHtml;\n",
              "        element.appendChild(docLink);\n",
              "      }\n",
              "    </script>\n",
              "  </div>\n",
              "\n",
              "\n",
              "<div id=\"df-d0c8da0d-880f-4d29-af66-29f87434be86\">\n",
              "  <button class=\"colab-df-quickchart\" onclick=\"quickchart('df-d0c8da0d-880f-4d29-af66-29f87434be86')\"\n",
              "            title=\"Suggest charts\"\n",
              "            style=\"display:none;\">\n",
              "\n",
              "<svg xmlns=\"http://www.w3.org/2000/svg\" height=\"24px\"viewBox=\"0 0 24 24\"\n",
              "     width=\"24px\">\n",
              "    <g>\n",
              "        <path d=\"M19 3H5c-1.1 0-2 .9-2 2v14c0 1.1.9 2 2 2h14c1.1 0 2-.9 2-2V5c0-1.1-.9-2-2-2zM9 17H7v-7h2v7zm4 0h-2V7h2v10zm4 0h-2v-4h2v4z\"/>\n",
              "    </g>\n",
              "</svg>\n",
              "  </button>\n",
              "\n",
              "<style>\n",
              "  .colab-df-quickchart {\n",
              "      --bg-color: #E8F0FE;\n",
              "      --fill-color: #1967D2;\n",
              "      --hover-bg-color: #E2EBFA;\n",
              "      --hover-fill-color: #174EA6;\n",
              "      --disabled-fill-color: #AAA;\n",
              "      --disabled-bg-color: #DDD;\n",
              "  }\n",
              "\n",
              "  [theme=dark] .colab-df-quickchart {\n",
              "      --bg-color: #3B4455;\n",
              "      --fill-color: #D2E3FC;\n",
              "      --hover-bg-color: #434B5C;\n",
              "      --hover-fill-color: #FFFFFF;\n",
              "      --disabled-bg-color: #3B4455;\n",
              "      --disabled-fill-color: #666;\n",
              "  }\n",
              "\n",
              "  .colab-df-quickchart {\n",
              "    background-color: var(--bg-color);\n",
              "    border: none;\n",
              "    border-radius: 50%;\n",
              "    cursor: pointer;\n",
              "    display: none;\n",
              "    fill: var(--fill-color);\n",
              "    height: 32px;\n",
              "    padding: 0;\n",
              "    width: 32px;\n",
              "  }\n",
              "\n",
              "  .colab-df-quickchart:hover {\n",
              "    background-color: var(--hover-bg-color);\n",
              "    box-shadow: 0 1px 2px rgba(60, 64, 67, 0.3), 0 1px 3px 1px rgba(60, 64, 67, 0.15);\n",
              "    fill: var(--button-hover-fill-color);\n",
              "  }\n",
              "\n",
              "  .colab-df-quickchart-complete:disabled,\n",
              "  .colab-df-quickchart-complete:disabled:hover {\n",
              "    background-color: var(--disabled-bg-color);\n",
              "    fill: var(--disabled-fill-color);\n",
              "    box-shadow: none;\n",
              "  }\n",
              "\n",
              "  .colab-df-spinner {\n",
              "    border: 2px solid var(--fill-color);\n",
              "    border-color: transparent;\n",
              "    border-bottom-color: var(--fill-color);\n",
              "    animation:\n",
              "      spin 1s steps(1) infinite;\n",
              "  }\n",
              "\n",
              "  @keyframes spin {\n",
              "    0% {\n",
              "      border-color: transparent;\n",
              "      border-bottom-color: var(--fill-color);\n",
              "      border-left-color: var(--fill-color);\n",
              "    }\n",
              "    20% {\n",
              "      border-color: transparent;\n",
              "      border-left-color: var(--fill-color);\n",
              "      border-top-color: var(--fill-color);\n",
              "    }\n",
              "    30% {\n",
              "      border-color: transparent;\n",
              "      border-left-color: var(--fill-color);\n",
              "      border-top-color: var(--fill-color);\n",
              "      border-right-color: var(--fill-color);\n",
              "    }\n",
              "    40% {\n",
              "      border-color: transparent;\n",
              "      border-right-color: var(--fill-color);\n",
              "      border-top-color: var(--fill-color);\n",
              "    }\n",
              "    60% {\n",
              "      border-color: transparent;\n",
              "      border-right-color: var(--fill-color);\n",
              "    }\n",
              "    80% {\n",
              "      border-color: transparent;\n",
              "      border-right-color: var(--fill-color);\n",
              "      border-bottom-color: var(--fill-color);\n",
              "    }\n",
              "    90% {\n",
              "      border-color: transparent;\n",
              "      border-bottom-color: var(--fill-color);\n",
              "    }\n",
              "  }\n",
              "</style>\n",
              "\n",
              "  <script>\n",
              "    async function quickchart(key) {\n",
              "      const quickchartButtonEl =\n",
              "        document.querySelector('#' + key + ' button');\n",
              "      quickchartButtonEl.disabled = true;  // To prevent multiple clicks.\n",
              "      quickchartButtonEl.classList.add('colab-df-spinner');\n",
              "      try {\n",
              "        const charts = await google.colab.kernel.invokeFunction(\n",
              "            'suggestCharts', [key], {});\n",
              "      } catch (error) {\n",
              "        console.error('Error during call to suggestCharts:', error);\n",
              "      }\n",
              "      quickchartButtonEl.classList.remove('colab-df-spinner');\n",
              "      quickchartButtonEl.classList.add('colab-df-quickchart-complete');\n",
              "    }\n",
              "    (() => {\n",
              "      let quickchartButtonEl =\n",
              "        document.querySelector('#df-d0c8da0d-880f-4d29-af66-29f87434be86 button');\n",
              "      quickchartButtonEl.style.display =\n",
              "        google.colab.kernel.accessAllowed ? 'block' : 'none';\n",
              "    })();\n",
              "  </script>\n",
              "</div>\n",
              "    </div>\n",
              "  </div>\n"
            ]
          },
          "metadata": {},
          "execution_count": 17
        }
      ]
    },
    {
      "cell_type": "markdown",
      "source": [
        "Stemming and lemmetization."
      ],
      "metadata": {
        "id": "TqGrMwGZ8KL0"
      }
    },
    {
      "cell_type": "code",
      "source": [
        "#Porter Stemmer\n",
        "\n",
        "ps = nltk.PorterStemmer()\n",
        "\n",
        "df_practice['text'] = df_practice['text'].map(lambda x: [ps.stem(word) for word in x])"
      ],
      "metadata": {
        "id": "CBo4KASD5gnX"
      },
      "execution_count": 18,
      "outputs": []
    },
    {
      "cell_type": "code",
      "source": [
        "#Lemmatizer\n",
        "lm = nltk.WordNetLemmatizer()\n",
        "\n",
        "df_practice['text'] = df_practice['text'].map(lambda x: [lm.lemmatize(word) for word in x])"
      ],
      "metadata": {
        "id": "HLvSRBpj8Th7"
      },
      "execution_count": 19,
      "outputs": []
    },
    {
      "cell_type": "markdown",
      "source": [
        "Produce histogram."
      ],
      "metadata": {
        "id": "WPGta4fY0f3q"
      }
    },
    {
      "cell_type": "code",
      "source": [
        "from nltk.probability import FreqDist\n",
        "\n",
        "#Create FreqDist from list of words from all tokenized tweets\n",
        "\n",
        "stopped_words = [word for tweet in df_practice['text'] for word in tweet]\n",
        "\n",
        "fdist = FreqDist(stopped_words)"
      ],
      "metadata": {
        "id": "Df1F90Ji0RRy"
      },
      "execution_count": 20,
      "outputs": []
    },
    {
      "cell_type": "code",
      "source": [
        "fdist.most_common(20)"
      ],
      "metadata": {
        "colab": {
          "base_uri": "https://localhost:8080/"
        },
        "id": "VkHU1v773YC-",
        "outputId": "47b5ada1-9b3d-46fb-c898-be298f01ee90"
      },
      "execution_count": 21,
      "outputs": [
        {
          "output_type": "execute_result",
          "data": {
            "text/plain": [
              "[('sxsw', 9002),\n",
              " ('mention', 6723),\n",
              " ('link', 4047),\n",
              " ('rt', 2917),\n",
              " ('ipad', 2424),\n",
              " ('googl', 2404),\n",
              " ('appl', 2119),\n",
              " ('iphon', 1470),\n",
              " ('store', 1435),\n",
              " ('new', 1064),\n",
              " ('app', 987),\n",
              " ('austin', 923),\n",
              " ('launch', 806),\n",
              " ('amp', 695),\n",
              " ('social', 620),\n",
              " ('circl', 616),\n",
              " ('today', 563),\n",
              " ('popup', 561),\n",
              " ('android', 540),\n",
              " ('get', 515)]"
            ]
          },
          "metadata": {},
          "execution_count": 21
        }
      ]
    },
    {
      "cell_type": "markdown",
      "source": [
        "Try bigrams"
      ],
      "metadata": {
        "id": "oPtf3b40eSSP"
      }
    },
    {
      "cell_type": "code",
      "source": [
        "bigram_measures = nltk.collocations.BigramAssocMeasures()\n",
        "\n",
        "finder = BigramCollocationFinder.from_words(stopped_words)\n",
        "\n",
        "scored = finder.score_ngrams(bigram_measures.raw_freq)\n"
      ],
      "metadata": {
        "id": "bIsP6Jdj7Ai4"
      },
      "execution_count": 22,
      "outputs": []
    },
    {
      "cell_type": "code",
      "source": [
        "scored[:20]"
      ],
      "metadata": {
        "id": "rmAwLNnkfQaL",
        "outputId": "3fa25b99-5b2c-4639-e90a-ed27fd105049",
        "colab": {
          "base_uri": "https://localhost:8080/"
        }
      },
      "execution_count": 23,
      "outputs": [
        {
          "output_type": "execute_result",
          "data": {
            "text/plain": [
              "[(('rt', 'mention'), 0.027218934911242602),\n",
              " (('sxsw', 'link'), 0.008822821956030211),\n",
              " (('link', 'sxsw'), 0.007129455909943715),\n",
              " (('sxsw', 'rt'), 0.00653292923461779),\n",
              " (('mention', 'mention'), 0.005628517823639775),\n",
              " (('mention', 'sxsw'), 0.005532303843748497),\n",
              " (('appl', 'store'), 0.005484196853802858),\n",
              " (('link', 'rt'), 0.004878048780487805),\n",
              " (('sxsw', 'mention'), 0.0046278924327704815),\n",
              " (('social', 'network'), 0.004339250493096647),\n",
              " (('mention', 'googl'), 0.004166065329292346),\n",
              " (('new', 'social'), 0.003925530379564151),\n",
              " (('googl', 'launch'), 0.003377110694183865),\n",
              " (('mention', 'rt'), 0.0032327897243469477),\n",
              " (('network', 'call'), 0.0031365757444556694),\n",
              " (('store', 'sxsw'), 0.0031269543464665416),\n",
              " (('via', 'mention'), 0.0030596045605426466),\n",
              " (('sxsw', 'appl'), 0.0030307403665752633),\n",
              " (('call', 'circl'), 0.00300187617260788),\n",
              " (('iphon', 'app'), 0.00300187617260788)]"
            ]
          },
          "metadata": {},
          "execution_count": 23
        }
      ]
    },
    {
      "cell_type": "markdown",
      "source": [
        "After looking at this, it seems as if there are some Twitter unique stop words that need to be removed, including 'rt', 'mention' and 'link'."
      ],
      "metadata": {
        "id": "VEcWt5B-jMi6"
      }
    },
    {
      "cell_type": "code",
      "source": [
        "twitter_words = ['rt', 'mention', 'link']\n",
        "\n",
        "#Remove words\n",
        "df_practice['text'] = df_practice['text'].map(lambda x: [word for word in x if word not in twitter_words])\n",
        "\n",
        "#Updated list of words\n",
        "stopped_words_new = [word for tweet in df_practice['text'] for word in tweet]\n",
        "\n",
        "#Update freq dist\n",
        "fdist = FreqDist(stopped_words_new)\n",
        "\n",
        "#Most common words\n",
        "_20 = fdist.most_common(20)"
      ],
      "metadata": {
        "id": "UXgptdcufuuB"
      },
      "execution_count": 24,
      "outputs": []
    },
    {
      "cell_type": "code",
      "source": [
        "_20"
      ],
      "metadata": {
        "id": "AMDjPfp7DHZO",
        "outputId": "f9463967-baa9-4ea8-d9c3-558c6e85744e",
        "colab": {
          "base_uri": "https://localhost:8080/"
        }
      },
      "execution_count": 25,
      "outputs": [
        {
          "output_type": "execute_result",
          "data": {
            "text/plain": [
              "[('sxsw', 9002),\n",
              " ('ipad', 2424),\n",
              " ('googl', 2404),\n",
              " ('appl', 2119),\n",
              " ('iphon', 1470),\n",
              " ('store', 1435),\n",
              " ('new', 1064),\n",
              " ('app', 987),\n",
              " ('austin', 923),\n",
              " ('launch', 806),\n",
              " ('amp', 695),\n",
              " ('social', 620),\n",
              " ('circl', 616),\n",
              " ('today', 563),\n",
              " ('popup', 561),\n",
              " ('android', 540),\n",
              " ('get', 515),\n",
              " ('open', 495),\n",
              " ('network', 471),\n",
              " ('line', 440)]"
            ]
          },
          "metadata": {},
          "execution_count": 25
        }
      ]
    },
    {
      "cell_type": "code",
      "source": [
        "words = [tup[0] for tup in _20]\n",
        "words"
      ],
      "metadata": {
        "id": "bhmDj0GFGuXK",
        "outputId": "0a7c1649-9ce8-4ce6-8eca-23d59fbc2178",
        "colab": {
          "base_uri": "https://localhost:8080/"
        }
      },
      "execution_count": 26,
      "outputs": [
        {
          "output_type": "execute_result",
          "data": {
            "text/plain": [
              "['sxsw',\n",
              " 'ipad',\n",
              " 'googl',\n",
              " 'appl',\n",
              " 'iphon',\n",
              " 'store',\n",
              " 'new',\n",
              " 'app',\n",
              " 'austin',\n",
              " 'launch',\n",
              " 'amp',\n",
              " 'social',\n",
              " 'circl',\n",
              " 'today',\n",
              " 'popup',\n",
              " 'android',\n",
              " 'get',\n",
              " 'open',\n",
              " 'network',\n",
              " 'line']"
            ]
          },
          "metadata": {},
          "execution_count": 26
        }
      ]
    },
    {
      "cell_type": "code",
      "source": [
        "def freq_dist_plot(fdist):\n",
        "  words = [tup[0] for tup in fdist]\n",
        "  counts = [tup[1] for tup in fdist]\n",
        "  sns.barplot(x=words, y=counts)\n",
        "\n",
        "freq_dist_plot(_20)"
      ],
      "metadata": {
        "id": "K4EwcVf1GhOc",
        "outputId": "2244cbf1-192b-49b6-9fb8-a9c7b9bd0f5a",
        "colab": {
          "base_uri": "https://localhost:8080/",
          "height": 430
        }
      },
      "execution_count": 27,
      "outputs": [
        {
          "output_type": "display_data",
          "data": {
            "text/plain": [
              "<Figure size 640x480 with 1 Axes>"
            ],
            "image/png": "[encoded data removed]"
          },
          "metadata": {}
        }
      ]
    },
    {
      "cell_type": "markdown",
      "source": [
        "Let's try to see if there's a difference depending on positive or negative tweets."
      ],
      "metadata": {
        "id": "9Mm4HTo9ASG6"
      }
    },
    {
      "cell_type": "code",
      "source": [
        "pos = df_practice[df_practice['emotion'] == 'Positive emotion']\n",
        "\n",
        "#Make list of words\n",
        "pos_words = [word for tweet in pos['text'] for word in tweet]\n",
        "\n",
        "#Freq dist\n",
        "pos_fdist = FreqDist(pos_words)\n",
        "\n",
        "#Most common\n",
        "pos_20 = pos_fdist.most_common(20)\n",
        "pos_20"
      ],
      "metadata": {
        "id": "1NK3vDs1-OiX",
        "colab": {
          "base_uri": "https://localhost:8080/"
        },
        "outputId": "a9dcf035-09b0-459c-f877-bc8ce0c82a0f"
      },
      "execution_count": 28,
      "outputs": [
        {
          "output_type": "execute_result",
          "data": {
            "text/plain": [
              "[('sxsw', 2953),\n",
              " ('ipad', 989),\n",
              " ('appl', 844),\n",
              " ('googl', 659),\n",
              " ('store', 529),\n",
              " ('iphon', 507),\n",
              " ('app', 458),\n",
              " ('new', 353),\n",
              " ('austin', 280),\n",
              " ('popup', 209),\n",
              " ('get', 202),\n",
              " ('launch', 188),\n",
              " ('android', 187),\n",
              " ('amp', 175),\n",
              " ('open', 175),\n",
              " ('go', 156),\n",
              " ('one', 143),\n",
              " ('parti', 141),\n",
              " ('time', 140),\n",
              " ('line', 139)]"
            ]
          },
          "metadata": {},
          "execution_count": 28
        }
      ]
    },
    {
      "cell_type": "code",
      "source": [
        "bigram_measures = nltk.collocations.BigramAssocMeasures()\n",
        "\n",
        "finder = BigramCollocationFinder.from_words(pos_words)\n",
        "\n",
        "scored = finder.score_ngrams(bigram_measures.raw_freq)\n",
        "\n",
        "scored[:20]"
      ],
      "metadata": {
        "id": "qMwX-vNyaVcb",
        "outputId": "f3d27baf-4974-4b90-dd9e-c641d279710b",
        "colab": {
          "base_uri": "https://localhost:8080/"
        }
      },
      "execution_count": 29,
      "outputs": [
        {
          "output_type": "execute_result",
          "data": {
            "text/plain": [
              "[(('appl', 'store'), 0.007031095266389384),\n",
              " (('iphon', 'app'), 0.004951475539710834),\n",
              " (('sxsw', 'appl'), 0.004885455865848023),\n",
              " (('store', 'sxsw'), 0.0039941902687000725),\n",
              " (('popup', 'store'), 0.0038621509209744503),\n",
              " (('ipad', 'sxsw'), 0.0035650623885918),\n",
              " (('appl', 'open'), 0.003532052551660395),\n",
              " (('austin', 'sxsw'), 0.003499042714728989),\n",
              " (('sxsw', 'ipad'), 0.003433023040866178),\n",
              " (('sxsw', 'googl'), 0.0032679738562091504),\n",
              " (('social', 'network'), 0.002838845976100878),\n",
              " (('ipad', 'app'), 0.0025747672806496337),\n",
              " (('googl', 'map'), 0.002541757443718228),\n",
              " (('new', 'social'), 0.0025087476067868226),\n",
              " (('appl', 'popup'), 0.0023106885851983893),\n",
              " (('downtown', 'austin'), 0.0022776787482669835),\n",
              " (('store', 'downtown'), 0.002244668911335578),\n",
              " (('googl', 'launch'), 0.002178649237472767),\n",
              " (('temporari', 'store'), 0.002178649237472767),\n",
              " (('new', 'ipad'), 0.0020796197266785502)]"
            ]
          },
          "metadata": {},
          "execution_count": 29
        }
      ]
    },
    {
      "cell_type": "code",
      "source": [
        "neg = df_practice[df_practice['emotion'] == 'Negative emotion']\n",
        "#Make list of words\n",
        "neg_words = [word for tweet in neg['text'] for word in tweet]\n",
        "\n",
        "#Freq dist\n",
        "neg_fdist = FreqDist(neg_words)\n",
        "\n",
        "#Most common\n",
        "neg_20 = neg_fdist.most_common(20)\n",
        "neg_20"
      ],
      "metadata": {
        "colab": {
          "base_uri": "https://localhost:8080/"
        },
        "id": "xkRKoM0pYSyw",
        "outputId": "dbf6534e-11c8-431b-cd46-3d21d12171a1"
      },
      "execution_count": 30,
      "outputs": [
        {
          "output_type": "execute_result",
          "data": {
            "text/plain": [
              "[('sxsw', 551),\n",
              " ('ipad', 184),\n",
              " ('iphon', 156),\n",
              " ('googl', 135),\n",
              " ('appl', 102),\n",
              " ('app', 85),\n",
              " ('store', 44),\n",
              " ('like', 43),\n",
              " ('new', 41),\n",
              " ('need', 35),\n",
              " ('circl', 34),\n",
              " ('get', 34),\n",
              " ('social', 29),\n",
              " ('design', 29),\n",
              " ('use', 29),\n",
              " ('peopl', 29),\n",
              " ('launch', 28),\n",
              " ('go', 26),\n",
              " ('austin', 24),\n",
              " ('think', 24)]"
            ]
          },
          "metadata": {},
          "execution_count": 30
        }
      ]
    },
    {
      "cell_type": "code",
      "source": [
        "bigram_measures = nltk.collocations.BigramAssocMeasures()\n",
        "\n",
        "finder = BigramCollocationFinder.from_words(neg_words)\n",
        "\n",
        "scored = finder.score_ngrams(bigram_measures.raw_freq)\n",
        "\n",
        "scored[:20]"
      ],
      "metadata": {
        "colab": {
          "base_uri": "https://localhost:8080/"
        },
        "id": "vBeuDfPNYW3R",
        "outputId": "7a935abb-f43e-4340-af83-30738b091a4d"
      },
      "execution_count": 31,
      "outputs": [
        {
          "output_type": "execute_result",
          "data": {
            "text/plain": [
              "[(('sxsw', 'ipad'), 0.0038092083471348128),\n",
              " (('iphon', 'app'), 0.00364359059291156),\n",
              " (('sxsw', 'googl'), 0.00364359059291156),\n",
              " (('appl', 'store'), 0.0034779728386883074),\n",
              " (('sxsw', 'iphon'), 0.0033123550844650546),\n",
              " (('googl', 'circl'), 0.002484266313348791),\n",
              " (('ipad', 'design'), 0.002484266313348791),\n",
              " (('iphon', 'sxsw'), 0.002484266313348791),\n",
              " (('new', 'social'), 0.002484266313348791),\n",
              " (('design', 'headach'), 0.0023186485591255384),\n",
              " (('sxsw', 'appl'), 0.0023186485591255384),\n",
              " (('googl', 'launch'), 0.0021530308049022857),\n",
              " (('ipad', 'sxsw'), 0.0021530308049022857),\n",
              " (('fascist', 'compani'), 0.001987413050679033),\n",
              " (('major', 'new'), 0.001987413050679033),\n",
              " (('social', 'network'), 0.001987413050679033),\n",
              " (('sxsw', 'sxsw'), 0.001987413050679033),\n",
              " (('call', 'circl'), 0.00182179529645578),\n",
              " (('network', 'call'), 0.00182179529645578),\n",
              " (('news', 'app'), 0.00182179529645578)]"
            ]
          },
          "metadata": {},
          "execution_count": 31
        }
      ]
    },
    {
      "cell_type": "markdown",
      "source": [
        "As we can see from above, most of the postive and negative tweets share the same words. Let's build a function to find unique words to positive and negative tweets."
      ],
      "metadata": {
        "id": "7UfrgNEhcQxu"
      }
    },
    {
      "cell_type": "code",
      "source": [
        "def unique(corpus, sentiment):\n",
        "  \"\"\"\n",
        "  Takes in corpus which is dataframe containing all tweets.\n",
        "  Also takes sentiment to find unique words for that sentiment.\n",
        "  \"\"\"\n",
        "  #Create lists of positive and negative words\n",
        "  positive_tweets = corpus[corpus['emotion'] == 'Positive emotion']\n",
        "  positive_words = [word for tweet in positive_tweets['text'] for word in tweet]\n",
        "\n",
        "  negative_tweets = corpus[corpus['emotion'] == 'Negative emotion']\n",
        "  negative_words = [word for tweet in negative_tweets['text'] for word in tweet]\n",
        "\n",
        "  #Create list of unique words for given sentiment\n",
        "  uniques = []\n",
        "\n",
        "  if sentiment == 'positive':\n",
        "    for word in positive_words:\n",
        "      if word not in negative_words:\n",
        "        uniques.append(word)\n",
        "  elif sentiment == 'negative':\n",
        "    for word in negative_words:\n",
        "      if word not in positive_words:\n",
        "        uniques.append(word)\n",
        "\n",
        "  return uniques\n",
        "\n",
        "unique_negatives = unique(df_practice, 'negative')\n",
        "\n",
        "\n"
      ],
      "metadata": {
        "id": "UNwHSIGIaiW4"
      },
      "execution_count": 36,
      "outputs": []
    },
    {
      "cell_type": "markdown",
      "source": [
        "Let's look at most commmon negative words."
      ],
      "metadata": {
        "id": "gVcbuelnYuXt"
      }
    },
    {
      "cell_type": "code",
      "source": [
        "freq_unique_neg = FreqDist(unique_negatives)\n",
        "freq_unique_neg.most_common(20)"
      ],
      "metadata": {
        "id": "OW9GCAKZhLTk",
        "outputId": "eae3dee6-5100-4ee2-bdd1-a5bc53332873",
        "colab": {
          "base_uri": "https://localhost:8080/"
        }
      },
      "execution_count": 43,
      "outputs": [
        {
          "output_type": "execute_result",
          "data": {
            "text/plain": [
              "[('fascist', 14),\n",
              " ('classiest', 9),\n",
              " ('autocorrect', 9),\n",
              " ('fade', 8),\n",
              " ('americaquot', 8),\n",
              " ('swisher', 8),\n",
              " ('novelti', 7),\n",
              " ('deleg', 7),\n",
              " ('kara', 7),\n",
              " ('fals', 4),\n",
              " ('worst', 4),\n",
              " ('mock', 4),\n",
              " ('annoy', 4),\n",
              " ('socialview', 4),\n",
              " ('comment', 4),\n",
              " ('notic', 3),\n",
              " ('now���and', 3),\n",
              " ('terribl', 3),\n",
              " ('batterykil', 3),\n",
              " ('brick', 3)]"
            ]
          },
          "metadata": {},
          "execution_count": 43
        }
      ]
    },
    {
      "cell_type": "markdown",
      "source": [
        "Let's look at most commmon positive words."
      ],
      "metadata": {
        "id": "bS8zi6lqZK01"
      }
    },
    {
      "cell_type": "code",
      "source": [
        "unique_positives = unique(df_practice, 'positive')\n",
        "\n",
        "freq_unique_pos = FreqDist(unique_positives)\n",
        "freq_unique_pos.most_common(30)"
      ],
      "metadata": {
        "id": "3ctRxPQyYf7S",
        "outputId": "d6a6789f-4af2-4a60-b619-f1006a060f13",
        "colab": {
          "base_uri": "https://localhost:8080/"
        }
      },
      "execution_count": 41,
      "outputs": [
        {
          "output_type": "execute_result",
          "data": {
            "text/plain": [
              "[('fun', 49),\n",
              " ('begin', 47),\n",
              " ('music', 36),\n",
              " ('conferencesquot', 31),\n",
              " ('event', 28),\n",
              " ('other', 28),\n",
              " ('school', 27),\n",
              " ('congress', 27),\n",
              " ('hot', 26),\n",
              " ('hollergram', 23),\n",
              " ('gowalla', 21),\n",
              " ('art', 21),\n",
              " ('expert', 21),\n",
              " ('pick', 21),\n",
              " ('congrat', 20),\n",
              " ('choic', 20),\n",
              " ('band', 18),\n",
              " ('sweet', 18),\n",
              " ('core', 17),\n",
              " ('holler', 16),\n",
              " ('gram', 16),\n",
              " ('bought', 16),\n",
              " ('physic', 16),\n",
              " ('street', 16),\n",
              " ('award', 15),\n",
              " ('retail', 15),\n",
              " ('jealou', 15),\n",
              " ('purchas', 15),\n",
              " ('killer', 15),\n",
              " ('giveaway', 15)]"
            ]
          },
          "metadata": {},
          "execution_count": 41
        }
      ]
    },
    {
      "cell_type": "code",
      "source": [],
      "metadata": {
        "id": "81m1cEZXZU6s"
      },
      "execution_count": null,
      "outputs": []
    }
  ]
}